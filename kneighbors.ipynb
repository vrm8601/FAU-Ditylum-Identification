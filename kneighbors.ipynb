{
 "cells": [
  {
   "cell_type": "code",
   "execution_count": 1,
   "metadata": {
    "ExecuteTime": {
     "end_time": "2020-04-13T21:32:06.886274Z",
     "start_time": "2020-04-13T21:31:57.211841Z"
    }
   },
   "outputs": [],
   "source": [
    "import pandas as pd\n",
    "import seaborn as sns\n",
    "import numpy as np\n",
    "import os\n",
    "import glob\n",
    "import skimage.io as io\n",
    "from skimage import data_dir\n",
    "import split_folders\n",
    "from sklearn.model_selection import train_test_split\n",
    "from sklearn.metrics import classification_report,confusion_matrix\n",
    "from sklearn.preprocessing import StandardScaler\n",
    "from sklearn.model_selection import GridSearchCV\n",
    "from sklearn.neural_network import MLPClassifier\n",
    "from sklearn.model_selection import cross_val_score\n",
    "from sklearn.metrics import accuracy_score\n",
    "from skimage.io import imread_collection\n",
    "import random\n",
    "from sklearn.neighbors import KNeighborsClassifier"
   ]
  },
  {
   "cell_type": "code",
   "execution_count": 2,
   "metadata": {
    "ExecuteTime": {
     "end_time": "2020-04-13T21:32:06.898292Z",
     "start_time": "2020-04-13T21:32:06.890235Z"
    }
   },
   "outputs": [],
   "source": [
    "#this function reads in images and then flattens them into a dataframe\n",
    "def flat_images(path):\n",
    "    images=io.ImageCollection(path)\n",
    "    flat_images=[]\n",
    "    for i in range(len(images)):\n",
    "        img=images[i]\n",
    "        img1=img.flatten()\n",
    "        flat_images.append(img1)\n",
    "    df=pd.DataFrame(flat_images)\n",
    "    return df"
   ]
  },
  {
   "cell_type": "code",
   "execution_count": 3,
   "metadata": {
    "ExecuteTime": {
     "end_time": "2020-04-13T21:32:40.028943Z",
     "start_time": "2020-04-13T21:32:06.900308Z"
    }
   },
   "outputs": [],
   "source": [
    "#flattens ditylum images\n",
    "path= r'C:\\Users\\vrm8601\\Documents\\Pre Prac\\ditsample\\*.tif'\n",
    "df_1=flat_images(path)\n",
    "df_1=df_1.fillna(0)\n",
    "df_1['label']=1"
   ]
  },
  {
   "cell_type": "code",
   "execution_count": 4,
   "metadata": {
    "ExecuteTime": {
     "end_time": "2020-04-13T21:33:02.105398Z",
     "start_time": "2020-04-13T21:32:40.032977Z"
    }
   },
   "outputs": [],
   "source": [
    "#flattens non-ditylum images\n",
    "#path1= r'C:\\Users\\vrm8601\\Documents\\Pre Prac\\0_notditylum\\0\\*.tif'\n",
    "path1= r'C:\\Users\\vrm8601\\Documents\\Pre Prac\\notsample\\*.tif'\n",
    "df_0=flat_images(path1)\n",
    "df_0=df_0.fillna(0)\n",
    "df_0['label']=0"
   ]
  },
  {
   "cell_type": "code",
   "execution_count": 5,
   "metadata": {
    "ExecuteTime": {
     "end_time": "2020-04-13T21:33:02.313300Z",
     "start_time": "2020-04-13T21:33:02.107063Z"
    }
   },
   "outputs": [],
   "source": [
    "#puts both sets of images in same dataframe\n",
    "df=df_1.append(df_0)\n",
    "df.reset_index(inplace=True,drop=True)\n",
    "df=df.fillna(0)"
   ]
  },
  {
   "cell_type": "code",
   "execution_count": 6,
   "metadata": {
    "ExecuteTime": {
     "end_time": "2020-04-13T21:33:24.745652Z",
     "start_time": "2020-04-13T21:33:24.593465Z"
    }
   },
   "outputs": [],
   "source": [
    "# create test and train data (80/20 split)\n",
    "X=df.drop(['label'],axis=1)\n",
    "y=df.label\n",
    "X_train, X_test, y_train, y_test=train_test_split(X,y,test_size=.2,random_state=42)"
   ]
  },
  {
   "cell_type": "code",
   "execution_count": null,
   "metadata": {},
   "outputs": [],
   "source": [
    "# tip: always run PCA after the split only on train data\n",
    "pca=PCA()\n",
    "pca.fit(X_train)\n",
    "csum=np.cumsum(pca.explained_variance_ratio_)\n",
    "d=np.argmax(csum>=.99)+1\n",
    "\n",
    "pca=PCA(n_components=d)\n",
    "X_train_reduced=pca.fit_transform(X_train)\n",
    "#print(X_train.shape, X_train_reduced.shape) \n",
    "\n",
    "reduce test set too for metrics later - not in the model itself\n",
    "X_test_reduced=pca.transform(X_test)\n",
    "#print(X_test.shape, X_test_reduced.shape)"
   ]
  },
  {
   "cell_type": "code",
   "execution_count": null,
   "metadata": {},
   "outputs": [],
   "source": []
  },
  {
   "cell_type": "code",
   "execution_count": 7,
   "metadata": {
    "ExecuteTime": {
     "end_time": "2020-04-13T21:33:26.099990Z",
     "start_time": "2020-04-13T21:33:25.744907Z"
    }
   },
   "outputs": [],
   "source": [
    "scaler = StandardScaler()\n",
    "# Fit on training set only.\n",
    "scaler.fit(X_train)\n",
    "# Apply transform to both the training set and the test set.\n",
    "X_train_transform = scaler.transform(X_train_reduced)\n",
    "X_test_transform = scaler.transform(X_test_reduced)"
   ]
  },
  {
   "cell_type": "code",
   "execution_count": 10,
   "metadata": {
    "ExecuteTime": {
     "end_time": "2020-04-13T21:33:55.379443Z",
     "start_time": "2020-04-13T21:33:54.349601Z"
    }
   },
   "outputs": [],
   "source": [
    "error_rate = []\n",
    "\n",
    "# Will take some time\n",
    "for i in range(1,12):\n",
    "    # create a knn classifier with n_neighbors equals i\n",
    "    knn = KNeighborsClassifier(n_neighbors=i)\n",
    "    knn.fit(X_train_transform,y_train)\n",
    "    pred_i = knn.predict(X_test_transform)\n",
    "    # calculate the error rate and append to the error_rate list\n",
    "    error_rate.append(np.mean(pred_i != y_test))"
   ]
  },
  {
   "cell_type": "code",
   "execution_count": 11,
   "metadata": {
    "ExecuteTime": {
     "end_time": "2020-04-13T21:33:56.749455Z",
     "start_time": "2020-04-13T21:33:56.743137Z"
    }
   },
   "outputs": [
    {
     "name": "stdout",
     "output_type": "stream",
     "text": [
      "[0.25, 0.25, 0.25, 0.75, 0.75, 0.75, 0.75, 0.75, 0.75, 0.75, 0.75]\n"
     ]
    }
   ],
   "source": [
    "print(error_rate)"
   ]
  },
  {
   "cell_type": "code",
   "execution_count": null,
   "metadata": {},
   "outputs": [],
   "source": []
  }
 ],
 "metadata": {
  "kernelspec": {
   "display_name": "Python 3",
   "language": "python",
   "name": "python3"
  },
  "language_info": {
   "codemirror_mode": {
    "name": "ipython",
    "version": 3
   },
   "file_extension": ".py",
   "mimetype": "text/x-python",
   "name": "python",
   "nbconvert_exporter": "python",
   "pygments_lexer": "ipython3",
   "version": "3.7.3"
  },
  "toc": {
   "base_numbering": 1,
   "nav_menu": {},
   "number_sections": true,
   "sideBar": true,
   "skip_h1_title": false,
   "title_cell": "Table of Contents",
   "title_sidebar": "Contents",
   "toc_cell": false,
   "toc_position": {},
   "toc_section_display": true,
   "toc_window_display": false
  }
 },
 "nbformat": 4,
 "nbformat_minor": 2
}
