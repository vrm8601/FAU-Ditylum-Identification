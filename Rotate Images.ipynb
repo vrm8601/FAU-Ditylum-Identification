{
 "cells": [
  {
   "cell_type": "code",
   "execution_count": 1,
   "metadata": {
    "ExecuteTime": {
     "end_time": "2020-04-23T14:37:59.450550Z",
     "start_time": "2020-04-23T14:37:56.153542Z"
    }
   },
   "outputs": [],
   "source": [
    "from PIL import Image\n",
    "import skimage.io as io\n",
    "import os\n",
    "\n",
    "\n",
    "\n",
    "#this function reads in images and then makes 3 rotations to create more data\n",
    "def rotate_images(path,dest):\n",
    "    extracted_path = path[0:-6]\n",
    "    names=os.listdir(extracted_path)\n",
    "    images=io.ImageCollection(path)\n",
    "    \n",
    "\n",
    "    for i in range(len(images)):\n",
    "\n",
    "        img1=Image.open(str(extracted_path)+'\\\\'+str(names[i]))\n",
    "        new_name1 = '\\\\rotated90_'+str(names[i])\n",
    "        new_name2 = '\\\\rotated180_'+str(names[i])\n",
    "        new_name3 = '\\\\rotated270_'+str(names[i])\n",
    "        \n",
    "        \n",
    "        rot1=img1.rotate(90)\n",
    "        rot1.save(str(dest)+'\\\\'+str(new_name1))\n",
    "        rot2=rot1.rotate(90)\n",
    "        rot2.save(str(dest)+'\\\\'+str(new_name2))\n",
    "        rot3=rot2.rotate(90)\n",
    "        rot3.save(str(dest)+'\\\\'+str(new_name3))\n",
    "\n",
    "    return 'Copies made!'"
   ]
  },
  {
   "cell_type": "code",
   "execution_count": 2,
   "metadata": {
    "ExecuteTime": {
     "end_time": "2020-04-23T14:38:23.019301Z",
     "start_time": "2020-04-23T14:38:19.785513Z"
    }
   },
   "outputs": [
    {
     "data": {
      "text/plain": [
       "'Copies made!'"
      ]
     },
     "execution_count": 2,
     "metadata": {},
     "output_type": "execute_result"
    }
   ],
   "source": [
    "path=r'C:\\Users\\vrm8601\\Documents\\Pre Prac\\0_not\\*.tif'\n",
    "dest=r'C:\\Users\\vrm8601\\Documents\\Pre Prac\\0_not_rot'\n",
    "rotate_images(path,dest)"
   ]
  },
  {
   "cell_type": "code",
   "execution_count": null,
   "metadata": {},
   "outputs": [],
   "source": []
  }
 ],
 "metadata": {
  "kernelspec": {
   "display_name": "Python 3",
   "language": "python",
   "name": "python3"
  },
  "language_info": {
   "codemirror_mode": {
    "name": "ipython",
    "version": 3
   },
   "file_extension": ".py",
   "mimetype": "text/x-python",
   "name": "python",
   "nbconvert_exporter": "python",
   "pygments_lexer": "ipython3",
   "version": "3.7.3"
  },
  "toc": {
   "base_numbering": 1,
   "nav_menu": {},
   "number_sections": true,
   "sideBar": true,
   "skip_h1_title": false,
   "title_cell": "Table of Contents",
   "title_sidebar": "Contents",
   "toc_cell": false,
   "toc_position": {},
   "toc_section_display": true,
   "toc_window_display": false
  },
  "varInspector": {
   "cols": {
    "lenName": 16,
    "lenType": 16,
    "lenVar": 40
   },
   "kernels_config": {
    "python": {
     "delete_cmd_postfix": "",
     "delete_cmd_prefix": "del ",
     "library": "var_list.py",
     "varRefreshCmd": "print(var_dic_list())"
    },
    "r": {
     "delete_cmd_postfix": ") ",
     "delete_cmd_prefix": "rm(",
     "library": "var_list.r",
     "varRefreshCmd": "cat(var_dic_list()) "
    }
   },
   "types_to_exclude": [
    "module",
    "function",
    "builtin_function_or_method",
    "instance",
    "_Feature"
   ],
   "window_display": false
  }
 },
 "nbformat": 4,
 "nbformat_minor": 2
}
