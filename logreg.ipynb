{
 "cells": [
  {
   "cell_type": "code",
   "execution_count": null,
   "metadata": {
    "ExecuteTime": {
     "end_time": "2020-04-13T21:44:29.423191Z",
     "start_time": "2020-04-13T21:44:24.315294Z"
    }
   },
   "outputs": [],
   "source": [
    "import os\n",
    "import matplotlib.pyplot as plt\n",
    "import numpy as np\n",
    "import glob\n",
    "import skimage.io as io\n",
    "from skimage import data_dir\n",
    "import pandas as pd\n",
    "import split_folders\n",
    "from sklearn.model_selection import train_test_split\n",
    "from sklearn.metrics import classification_report,confusion_matrix\n",
    "from sklearn.preprocessing import StandardScaler\n",
    "from sklearn.model_selection import GridSearchCV\n",
    "from sklearn.neural_network import MLPClassifier\n",
    "from sklearn.model_selection import cross_val_score\n",
    "from sklearn.metrics import accuracy_score\n",
    "from skimage.io import imread_collection\n",
    "from sklearn.decomposition import PCA\n",
    "from sklearn.linear_model import LogisticRegression\n",
    "import random"
   ]
  },
  {
   "cell_type": "code",
   "execution_count": null,
   "metadata": {
    "ExecuteTime": {
     "end_time": "2020-04-13T21:44:29.431138Z",
     "start_time": "2020-04-13T21:44:29.423191Z"
    }
   },
   "outputs": [],
   "source": [
    "#this function reads in images and then flattens them into a dataframe\n",
    "def flat_images(path):\n",
    "    images=io.ImageCollection(path)\n",
    "    flat_images=[]\n",
    "    for i in range(len(images)):\n",
    "        img=images[i]\n",
    "        img1=img.flatten()\n",
    "        flat_images.append(img1)\n",
    "    df=pd.DataFrame(flat_images)\n",
    "    return df"
   ]
  },
  {
   "cell_type": "code",
   "execution_count": null,
   "metadata": {
    "ExecuteTime": {
     "end_time": "2020-04-13T21:45:02.320393Z",
     "start_time": "2020-04-13T21:44:29.433529Z"
    }
   },
   "outputs": [],
   "source": [
    "#flattens ditylum images\n",
    "path= r'dit\\*.tif'\n",
    "df_1=flat_images(path)\n",
    "df_1=df_1.fillna(0)\n",
    "df_1['label']=1"
   ]
  },
  {
   "cell_type": "code",
   "execution_count": null,
   "metadata": {
    "ExecuteTime": {
     "end_time": "2020-04-13T21:45:59.989479Z",
     "start_time": "2020-04-13T21:45:37.827671Z"
    }
   },
   "outputs": [],
   "source": [
    "#flattens non-ditylum images\n",
    "#path1= r'C:\\Users\\vrm8601\\Documents\\Pre Prac\\0_notditylum\\0\\*.tif'\n",
    "path1= r'not\\*.tif'\n",
    "df_0=flat_images(path1)\n",
    "df_0=df_0.fillna(0)\n",
    "df_0['label']=0"
   ]
  },
  {
   "cell_type": "code",
   "execution_count": null,
   "metadata": {
    "ExecuteTime": {
     "end_time": "2020-04-13T21:46:00.189580Z",
     "start_time": "2020-04-13T21:45:59.991829Z"
    }
   },
   "outputs": [],
   "source": [
    "#puts both sets of images in same dataframe\n",
    "df=df_1.append(df_0)\n",
    "df.reset_index(inplace=True,drop=True)\n",
    "df=df.fillna(0)"
   ]
  },
  {
   "cell_type": "code",
   "execution_count": null,
   "metadata": {
    "ExecuteTime": {
     "end_time": "2020-04-13T21:48:24.025232Z",
     "start_time": "2020-04-13T21:48:23.887294Z"
    }
   },
   "outputs": [],
   "source": [
    "# create test and train data (80/20 split)\n",
    "X=df.drop(['label'],axis=1)\n",
    "y=df.label\n",
    "X_train, X_test, y_train, y_test=train_test_split(X,y,test_size=.2,random_state=42)"
   ]
  },
  {
   "cell_type": "code",
   "execution_count": null,
   "metadata": {},
   "outputs": [],
   "source": [
    "\n",
    "scaler = StandardScaler()\n",
    "# Fit on training set only.\n",
    "scaler.fit(X_train)\n",
    "# Apply transform to both the training set and the test set.\n",
    "X_train_transform = scaler.transform(X_train)\n",
    "X_test_transform = scaler.transform(X_test)\n",
    "# perform PCA\n",
    "pca = PCA(.99)\n",
    "pca.fit(X_train_transform)\n",
    "X_train_transform = pca.transform(X_train_transform)\n",
    "X_test_transform = pca.transform(X_test_transform)"
   ]
  },
  {
   "cell_type": "code",
   "execution_count": null,
   "metadata": {
    "ExecuteTime": {
     "end_time": "2020-04-13T21:48:54.493638Z",
     "start_time": "2020-04-13T21:48:53.953994Z"
    }
   },
   "outputs": [],
   "source": [
    "#params={'C': np.linspace(0,1,5)}\n",
    "log_reg = LogisticRegression(random_state=42,solver='lbfgs',max_iter=50000)\n",
    "\n",
    "log = GridSearchCV(log_reg,params,cv=3, scoring = 'accuracy')\n",
    "log.fit(X_train_transform,y_train)\n",
    "print(\"best C\",log.best_params_,\"bestscore\",log.best_score_)"
   ]
  },
  {
   "cell_type": "code",
   "execution_count": null,
   "metadata": {},
   "outputs": [],
   "source": [
    "log_reg = LogisticRegression(random_state=42,solver='lbfgs',max_iter=50000, C=1000)\n",
    "log_reg.fit(X_train_transform,y_train)\n",
    "y_pred=logReg.predict(X_test_transform)\n",
    "\n",
    "# metrics\n",
    "print(accuracy_score(y_test, y_pred))\n",
    "print(confusion_matrix(y_test, y_pred))\n",
    "print(classification_report(y_test,y_pred))"
   ]
  }
 ],
 "metadata": {
  "kernelspec": {
   "display_name": "Python 3",
   "language": "python",
   "name": "python3"
  },
  "language_info": {
   "codemirror_mode": {
    "name": "ipython",
    "version": 3
   },
   "file_extension": ".py",
   "mimetype": "text/x-python",
   "name": "python",
   "nbconvert_exporter": "python",
   "pygments_lexer": "ipython3",
   "version": "3.7.3"
  },
  "toc": {
   "base_numbering": 1,
   "nav_menu": {},
   "number_sections": true,
   "sideBar": true,
   "skip_h1_title": false,
   "title_cell": "Table of Contents",
   "title_sidebar": "Contents",
   "toc_cell": false,
   "toc_position": {},
   "toc_section_display": true,
   "toc_window_display": false
  }
 },
 "nbformat": 4,
 "nbformat_minor": 2
}
