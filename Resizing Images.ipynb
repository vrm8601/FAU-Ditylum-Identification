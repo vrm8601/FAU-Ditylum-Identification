{
 "cells": [
  {
   "cell_type": "code",
   "execution_count": 3,
   "metadata": {
    "ExecuteTime": {
     "end_time": "2020-04-22T17:43:16.801285Z",
     "start_time": "2020-04-22T17:43:16.793309Z"
    }
   },
   "outputs": [],
   "source": [
    "from PIL import Image\n",
    "import skimage.io as io\n",
    "import os\n",
    "\n",
    "\n",
    "\n",
    "#this function reads in images and then resizes them for our eventual cnn\n",
    "def resize_images(path,dest):\n",
    "    extracted_path = path[0:-6]\n",
    "    names=os.listdir(extracted_path)\n",
    "    images=io.ImageCollection(path)\n",
    "\n",
    "    for i in range(len(images)):\n",
    "        img1=Image.open(str(extracted_path)+'\\\\'+str(names[i]))\n",
    "        new_name = '\\\\resized_'+str(names[i])\n",
    "        res1=img1.resize((500,500))\n",
    "        res1.save(str(dest)+'\\\\'+str(new_name))\n",
    "    \n",
    "    return 'Images resized!'"
   ]
  },
  {
   "cell_type": "code",
   "execution_count": 7,
   "metadata": {
    "ExecuteTime": {
     "end_time": "2020-04-22T17:53:33.714603Z",
     "start_time": "2020-04-22T17:53:22.703954Z"
    }
   },
   "outputs": [
    {
     "data": {
      "text/plain": [
       "'Images resized!'"
      ]
     },
     "execution_count": 7,
     "metadata": {},
     "output_type": "execute_result"
    }
   ],
   "source": [
    "path=r'C:\\Users\\vrm8601\\Documents\\Pre Prac\\0_notditylum\\*.tif'\n",
    "dest=r'C:\\Users\\vrm8601\\Documents\\Pre Prac\\0_notditylum_resized'\n",
    "resize_images(path,dest)"
   ]
  },
  {
   "cell_type": "code",
   "execution_count": 8,
   "metadata": {
    "ExecuteTime": {
     "end_time": "2020-04-22T17:54:21.351466Z",
     "start_time": "2020-04-22T17:54:04.748913Z"
    }
   },
   "outputs": [
    {
     "data": {
      "text/plain": [
       "'Images resized!'"
      ]
     },
     "execution_count": 8,
     "metadata": {},
     "output_type": "execute_result"
    }
   ],
   "source": [
    "path1=r'C:\\Users\\vrm8601\\Documents\\Pre Prac\\1_ditylum\\*.tif'\n",
    "dest1=r'C:\\Users\\vrm8601\\Documents\\Pre Prac\\1_ditylum_resized'\n",
    "resize_images(path1,dest1)"
   ]
  },
  {
   "cell_type": "code",
   "execution_count": null,
   "metadata": {},
   "outputs": [],
   "source": []
  }
 ],
 "metadata": {
  "kernelspec": {
   "display_name": "Python 3",
   "language": "python",
   "name": "python3"
  },
  "language_info": {
   "codemirror_mode": {
    "name": "ipython",
    "version": 3
   },
   "file_extension": ".py",
   "mimetype": "text/x-python",
   "name": "python",
   "nbconvert_exporter": "python",
   "pygments_lexer": "ipython3",
   "version": "3.7.3"
  },
  "toc": {
   "base_numbering": 1,
   "nav_menu": {},
   "number_sections": true,
   "sideBar": true,
   "skip_h1_title": false,
   "title_cell": "Table of Contents",
   "title_sidebar": "Contents",
   "toc_cell": false,
   "toc_position": {},
   "toc_section_display": true,
   "toc_window_display": false
  },
  "varInspector": {
   "cols": {
    "lenName": 16,
    "lenType": 16,
    "lenVar": 40
   },
   "kernels_config": {
    "python": {
     "delete_cmd_postfix": "",
     "delete_cmd_prefix": "del ",
     "library": "var_list.py",
     "varRefreshCmd": "print(var_dic_list())"
    },
    "r": {
     "delete_cmd_postfix": ") ",
     "delete_cmd_prefix": "rm(",
     "library": "var_list.r",
     "varRefreshCmd": "cat(var_dic_list()) "
    }
   },
   "types_to_exclude": [
    "module",
    "function",
    "builtin_function_or_method",
    "instance",
    "_Feature"
   ],
   "window_display": false
  }
 },
 "nbformat": 4,
 "nbformat_minor": 2
}
